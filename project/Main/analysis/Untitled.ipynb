{
 "cells": [
  {
   "cell_type": "code",
   "execution_count": 1,
   "id": "3104b59d",
   "metadata": {},
   "outputs": [],
   "source": [
    "import pandas as pd\n",
    "import numpy as np\n",
    "import matplotlib.pyplot as plt"
   ]
  },
  {
   "cell_type": "code",
   "execution_count": 56,
   "id": "f9ab10dd",
   "metadata": {},
   "outputs": [],
   "source": [
    "# !cd ../logs && ls\n",
    "dataframe= pd.read_csv(\"../logs/responses.log\")\n",
    "del dataframe['ClientID']"
   ]
  },
  {
   "cell_type": "code",
   "execution_count": 57,
   "id": "6c303301",
   "metadata": {},
   "outputs": [],
   "source": [
    "dataframe.sort_values('Response Time in milliseconds')\n",
    "q = dataframe['Response Time in milliseconds'].quantile(0.99)\n",
    "df=dataframe[dataframe[\"Response Time in milliseconds\"] < q]"
   ]
  },
  {
   "cell_type": "code",
   "execution_count": 58,
   "id": "f053dd68",
   "metadata": {},
   "outputs": [
    {
     "data": {
      "text/html": [
       "<div>\n",
       "<style scoped>\n",
       "    .dataframe tbody tr th:only-of-type {\n",
       "        vertical-align: middle;\n",
       "    }\n",
       "\n",
       "    .dataframe tbody tr th {\n",
       "        vertical-align: top;\n",
       "    }\n",
       "\n",
       "    .dataframe thead th {\n",
       "        text-align: right;\n",
       "    }\n",
       "</style>\n",
       "<table border=\"1\" class=\"dataframe\">\n",
       "  <thead>\n",
       "    <tr style=\"text-align: right;\">\n",
       "      <th></th>\n",
       "      <th>Response Time in milliseconds</th>\n",
       "    </tr>\n",
       "    <tr>\n",
       "      <th>number of queries</th>\n",
       "      <th></th>\n",
       "    </tr>\n",
       "  </thead>\n",
       "  <tbody>\n",
       "    <tr>\n",
       "      <th>0</th>\n",
       "      <td>1071.457158</td>\n",
       "    </tr>\n",
       "    <tr>\n",
       "      <th>1</th>\n",
       "      <td>1010.578508</td>\n",
       "    </tr>\n",
       "    <tr>\n",
       "      <th>2</th>\n",
       "      <td>1031.076181</td>\n",
       "    </tr>\n",
       "    <tr>\n",
       "      <th>3</th>\n",
       "      <td>1095.939271</td>\n",
       "    </tr>\n",
       "    <tr>\n",
       "      <th>4</th>\n",
       "      <td>1194.308824</td>\n",
       "    </tr>\n",
       "  </tbody>\n",
       "</table>\n",
       "</div>"
      ],
      "text/plain": [
       "                   Response Time in milliseconds\n",
       "number of queries                               \n",
       "0                                    1071.457158\n",
       "1                                    1010.578508\n",
       "2                                    1031.076181\n",
       "3                                    1095.939271\n",
       "4                                    1194.308824"
      ]
     },
     "execution_count": 58,
     "metadata": {},
     "output_type": "execute_result"
    }
   ],
   "source": [
    "df.groupby('number of queries').mean()"
   ]
  },
  {
   "cell_type": "code",
   "execution_count": null,
   "id": "092ebf20",
   "metadata": {},
   "outputs": [],
   "source": []
  }
 ],
 "metadata": {
  "kernelspec": {
   "display_name": "Python 3 (ipykernel)",
   "language": "python",
   "name": "python3"
  },
  "language_info": {
   "codemirror_mode": {
    "name": "ipython",
    "version": 3
   },
   "file_extension": ".py",
   "mimetype": "text/x-python",
   "name": "python",
   "nbconvert_exporter": "python",
   "pygments_lexer": "ipython3",
   "version": "3.10.6"
  }
 },
 "nbformat": 4,
 "nbformat_minor": 5
}
